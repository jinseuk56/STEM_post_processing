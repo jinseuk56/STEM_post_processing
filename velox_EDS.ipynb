{
 "cells": [
  {
   "cell_type": "code",
   "execution_count": 1,
   "metadata": {},
   "outputs": [
    {
     "name": "stderr",
     "output_type": "stream",
     "text": [
      "WARNING:hyperspy_gui_traitsui:The module://ipykernel.pylab.backend_inline matplotlib backend is not compatible with the traitsui GUI elements. For more information, read http://hyperspy.readthedocs.io/en/stable/user_guide/getting_started.html#possible-warnings-when-importing-hyperspy.\n",
      "WARNING:hyperspy_gui_traitsui:The traitsui GUI elements are not available.\n"
     ]
    }
   ],
   "source": [
    "import numpy as np\n",
    "import matplotlib.pyplot as plt\n",
    "import hyperspy.api as hys\n",
    "import tkinter.filedialog as tkf"
   ]
  },
  {
   "cell_type": "code",
   "execution_count": 2,
   "metadata": {},
   "outputs": [
    {
     "name": "stdout",
     "output_type": "stream",
     "text": [
      "C:/Users/RYUEMSL/Desktop/RYU/temporary/temp/200200520_TZ_EDS_SRO_STO_jjo/SI EDS-HAADF 1152.emd\n"
     ]
    }
   ],
   "source": [
    "img_adr = tkf.askopenfilename()\n",
    "print(img_adr)"
   ]
  },
  {
   "cell_type": "code",
   "execution_count": 3,
   "metadata": {},
   "outputs": [
    {
     "name": "stdout",
     "output_type": "stream",
     "text": [
      "[<EDSTEMSpectrum, title: EDS, dimensions: (|4096)>, <EDSTEMSpectrum, title: EDS, dimensions: (|4096)>, <EDSTEMSpectrum, title: EDS, dimensions: (|4096)>, <EDSTEMSpectrum, title: EDS, dimensions: (|4096)>, <Signal2D, title: O, dimensions: (|357, 639)>, <Signal2D, title: HAADF, dimensions: (|357, 639)>, <Signal2D, title: Ti, dimensions: (|357, 639)>, <Signal2D, title: Ru, dimensions: (|357, 639)>, <Signal2D, title: Sr, dimensions: (|357, 639)>, <EDSTEMSpectrum, title: EDS, dimensions: (357, 639|4096)>]\n"
     ]
    }
   ],
   "source": [
    "eds = hys.load(img_adr)\n",
    "print(eds)"
   ]
  },
  {
   "cell_type": "code",
   "execution_count": null,
   "metadata": {},
   "outputs": [],
   "source": [
    "haadf = eds[7]\n",
    "print(haadf)"
   ]
  },
  {
   "cell_type": "code",
   "execution_count": null,
   "metadata": {},
   "outputs": [],
   "source": [
    "edsi = eds[8]\n",
    "print(edsi)"
   ]
  },
  {
   "cell_type": "code",
   "execution_count": 5,
   "metadata": {},
   "outputs": [],
   "source": [
    "%matplotlib qt\n",
    "eds[5].plot()"
   ]
  },
  {
   "cell_type": "code",
   "execution_count": null,
   "metadata": {},
   "outputs": [],
   "source": [
    "edsi.save(tkf.asksaveasfilename())"
   ]
  }
 ],
 "metadata": {
  "kernelspec": {
   "display_name": "Python 3",
   "language": "python",
   "name": "python3"
  },
  "language_info": {
   "codemirror_mode": {
    "name": "ipython",
    "version": 3
   },
   "file_extension": ".py",
   "mimetype": "text/x-python",
   "name": "python",
   "nbconvert_exporter": "python",
   "pygments_lexer": "ipython3",
   "version": "3.7.6"
  }
 },
 "nbformat": 4,
 "nbformat_minor": 4
}
