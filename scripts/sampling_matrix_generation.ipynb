{
 "cells": [
  {
   "cell_type": "code",
   "execution_count": 1,
   "metadata": {},
   "outputs": [],
   "source": [
    "import numpy as np\n",
    "import matplotlib.pyplot as plt"
   ]
  },
  {
   "cell_type": "code",
   "execution_count": null,
   "metadata": {},
   "outputs": [],
   "source": [
    "def line_hop(img_shape, sr):\n",
    "    sampling_matrix = np.zeros(img_shape)\n",
    "    print(sampling_matrix.shape)\n",
    "    \n",
    "    num_line = int(img_shape[0]*sr)\n",
    "    print(num_line)\n",
    "    \n",
    "    line_chosen = np.random.choice(img_shape[0], num_line, replace=False)\n",
    "    line_chosen.sort()\n",
    "    #print(line_chosen[:10])\n",
    "    print(line_chosen.shape)\n",
    "    \n",
    "    for i in line_chosen:\n",
    "        temp = i\n",
    "        for j in range(img_shape[1]):\n",
    "            while True:\n",
    "                hop = np.random.choice([-1, 0, 1], p=[0.15, 0.70, 0.15])\n",
    "                temp += hop\n",
    "                if temp >= 0 and temp < img_shape[0]:\n",
    "                    break\n",
    "            sampling_matrix[temp, j] = 1\n",
    "    \n",
    "    print(np.sum(sampling_matrix)/(img_shape[0]*img_shape[1]))\n",
    "    \n",
    "    plt.figure(figsize=(10, 10))\n",
    "    plt.imshow(sampling_matrix, cmap=\"gray\")\n",
    "    plt.axis(\"off\")\n",
    "    plt.show()    \n",
    "    \n",
    "line_hop((200, 200), 0.2)"
   ]
  },
  {
   "cell_type": "code",
   "execution_count": 20,
   "metadata": {},
   "outputs": [
    {
     "name": "stdout",
     "output_type": "stream",
     "text": [
      "(200, 200)\n",
      "sampling ratio = 48.41 %\n"
     ]
    },
    {
     "data": {
      "image/png": "[encoded data removed]",
      "text/plain": [
       "<Figure size 720x720 with 1 Axes>"
      ]
     },
     "metadata": {
      "needs_background": "light"
     },
     "output_type": "display_data"
    }
   ],
   "source": [
    "def line_hop(img_shape, hop_bottom, hop_top):\n",
    "    sampling_matrix = np.zeros(img_shape)\n",
    "    print(sampling_matrix.shape)\n",
    "    \n",
    "    line_chosen = []\n",
    "    line = 0\n",
    "    hop_range = range(hop_bottom, hop_top, 1)\n",
    "    while True:\n",
    "        hop = np.random.choice(hop_range)\n",
    "        line += hop\n",
    "        if line >= img_shape[0]:\n",
    "            break\n",
    "        line_chosen.append(line)\n",
    "    \n",
    "    for i in line_chosen:\n",
    "        temp = i\n",
    "        for j in range(img_shape[1]):\n",
    "            while(True):\n",
    "                hop = np.random.choice([-1, 0, 1], p=[0.10, 0.80, 0.10])\n",
    "                temp += hop\n",
    "                if temp >= 0 and temp < img_shape[0]:\n",
    "                    break\n",
    "            sampling_matrix[temp, j] = 1\n",
    "    \n",
    "    \n",
    "    print((\"sampling ratio = %.2f %%\")%(100*np.sum(sampling_matrix)/(img_shape[0]*img_shape[1])))\n",
    "    \n",
    "    plt.figure(figsize=(10, 10))\n",
    "    plt.imshow(sampling_matrix, cmap=\"gray\")\n",
    "    plt.axis(\"off\")\n",
    "    plt.show()    \n",
    "    \n",
    "line_hop((200, 200), 1, 3)"
   ]
  },
  {
   "cell_type": "code",
   "execution_count": null,
   "metadata": {},
   "outputs": [],
   "source": [
    "np.random.choice([-1, 0, 1])"
   ]
  }
 ],
 "metadata": {
  "kernelspec": {
   "display_name": "Python 3",
   "language": "python",
   "name": "python3"
  },
  "language_info": {
   "codemirror_mode": {
    "name": "ipython",
    "version": 3
   },
   "file_extension": ".py",
   "mimetype": "text/x-python",
   "name": "python",
   "nbconvert_exporter": "python",
   "pygments_lexer": "ipython3",
   "version": "3.6.6"
  }
 },
 "nbformat": 4,
 "nbformat_minor": 2
}
