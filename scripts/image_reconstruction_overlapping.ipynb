{
 "cells": [
  {
   "cell_type": "code",
   "execution_count": null,
   "metadata": {},
   "outputs": [],
   "source": [
    "import numpy as np\n",
    "import matplotlib.pyplot as plt\n",
    "import tkinter.filedialog as tkf\n",
    "import glob"
   ]
  },
  {
   "cell_type": "code",
   "execution_count": null,
   "metadata": {},
   "outputs": [],
   "source": [
    "folder = tkf.askdirectory()\n",
    "img_adr = glob.glob(folder+\"/*\")\n",
    "print(len(img_adr))\n",
    "img_adr.sort()\n",
    "#print(img_adr[:30])"
   ]
  },
  {
   "cell_type": "code",
   "execution_count": null,
   "metadata": {},
   "outputs": [],
   "source": [
    "img_adr = tkf.askopenfilenames()"
   ]
  },
  {
   "cell_type": "code",
   "execution_count": null,
   "metadata": {},
   "outputs": [],
   "source": [
    "import skimage.exposure as exposure\n",
    "\n",
    "images = []\n",
    "for adr in img_adr:\n",
    "    temp = plt.imread(adr)[:, :, 0]\n",
    "    temp = temp / np.max(temp)\n",
    "    images.append(temp)\n",
    "images = np.asarray(images)\n",
    "print(images.shape)"
   ]
  },
  {
   "cell_type": "code",
   "execution_count": null,
   "metadata": {},
   "outputs": [],
   "source": [
    "xsize = 5\n",
    "ysize = 5\n",
    "crop_size = 200\n",
    "ny = xsize * crop_size\n",
    "nx = ysize * crop_size\n",
    "    \n",
    "reconstructed = np.zeros((ny, nx))\n",
    "\n",
    "k = 0\n",
    "for i in range(ysize):\n",
    "    for j in range(xsize):\n",
    "        img = plt.imread(img_adr[k])[:, :, 0]\n",
    "        img = img/np.max(img)\n",
    "        reconstructed[i*crop_size:(i+1)*crop_size, j*crop_size:(j+1)*crop_size] = images[k]\n",
    "        k += 1\n",
    "        \n",
    "plt.figure(figsize=(20, 20))\n",
    "plt.imshow(reconstructed, cmap=\"afmhot\")\n",
    "plt.show()"
   ]
  },
  {
   "cell_type": "code",
   "execution_count": null,
   "metadata": {},
   "outputs": [],
   "source": [
    "signal_avg = []\n",
    "for img in images:\n",
    "    signal_avg.append(np.percentile(img, 50))\n",
    "signal_avg = np.array(signal_avg)\n",
    "plt.plot(signal_avg)"
   ]
  },
  {
   "cell_type": "code",
   "execution_count": null,
   "metadata": {},
   "outputs": [],
   "source": [
    "signal_avg_normal = signal_avg / np.max(signal_avg)\n",
    "adjusted_images = []\n",
    "for i, img in enumerate(images):\n",
    "    adjusted_images.append(exposure.adjust_gamma(img, signal_avg_normal[i]*2.0))\n",
    "\n",
    "adjusted_images = np.asarray(adjusted_images)\n",
    "print(adjusted_images.shape)\n",
    "    \n",
    "plt.imshow(adjusted_images[0], cmap=\"gray\")"
   ]
  },
  {
   "cell_type": "code",
   "execution_count": null,
   "metadata": {},
   "outputs": [],
   "source": [
    "reconstructed_adjusted = np.zeros((ny, nx))\n",
    "\n",
    "k = 0\n",
    "for i in range(ysize):\n",
    "    for j in range(xsize):\n",
    "        img = plt.imread(img_adr[k])[:, :, 0]\n",
    "        img = img/np.max(img)\n",
    "        reconstructed_adjusted[i*crop_size:(i+1)*crop_size, j*crop_size:(j+1)*crop_size] = adjusted_images[k]\n",
    "        k += 1\n",
    "        \n",
    "plt.figure(figsize=(20, 20))\n",
    "plt.imshow(reconstructed_adjusted, cmap=\"afmhot\")\n",
    "plt.show()"
   ]
  },
  {
   "cell_type": "code",
   "execution_count": null,
   "metadata": {},
   "outputs": [],
   "source": [
    "save_name = tkf.asksaveasfilename()\n",
    "plt.imsave(fname=save_name, arr=reconstructed, format=\"png\", cmap=\"gray\")"
   ]
  },
  {
   "cell_type": "code",
   "execution_count": null,
   "metadata": {},
   "outputs": [],
   "source": []
  }
 ],
 "metadata": {
  "kernelspec": {
   "display_name": "Python 3",
   "language": "python",
   "name": "python3"
  },
  "language_info": {
   "codemirror_mode": {
    "name": "ipython",
    "version": 3
   },
   "file_extension": ".py",
   "mimetype": "text/x-python",
   "name": "python",
   "nbconvert_exporter": "python",
   "pygments_lexer": "ipython3",
   "version": "3.6.6"
  }
 },
 "nbformat": 4,
 "nbformat_minor": 2
}
