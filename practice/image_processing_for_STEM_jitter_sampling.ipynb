{
 "cells": [
  {
   "cell_type": "code",
   "execution_count": null,
   "metadata": {},
   "outputs": [],
   "source": [
    "import numpy as np\n",
    "import matplotlib.pyplot as plt\n",
    "import tkinter.filedialog as tkf\n",
    "import scipy.optimize as spopt\n",
    "import scipy.fftpack as spfft\n",
    "from sklearn.linear_model import Lasso\n",
    "import glob"
   ]
  },
  {
   "cell_type": "code",
   "execution_count": null,
   "metadata": {},
   "outputs": [],
   "source": [
    "img_directory = tkf.askdirectory()\n",
    "img_adr = glob.glob(img_directory+\"/*\")\n",
    "img_adr.sort()\n",
    "print(len(img_adr))"
   ]
  },
  {
   "cell_type": "code",
   "execution_count": null,
   "metadata": {},
   "outputs": [],
   "source": [
    "crop_size = 200\n",
    "sampling_ratio = 0.5"
   ]
  },
  {
   "cell_type": "code",
   "execution_count": null,
   "metadata": {},
   "outputs": [],
   "source": [
    "def dct2d(x):\n",
    "    return spfft.dct(spfft.dct(x.T, norm='ortho', axis=0).T, norm='ortho', axis=0)\n",
    "\n",
    "def idct2(x):\n",
    "    return spfft.idct(spfft.idct(x.T, norm='ortho', axis=0).T, norm='ortho', axis=0)"
   ]
  },
  {
   "cell_type": "code",
   "execution_count": null,
   "metadata": {},
   "outputs": [],
   "source": [
    "def CS_sequential(img_adr, crop_size, s_r, alphas):\n",
    "    \n",
    "    sy = crop_size\n",
    "    sx = crop_size\n",
    "    \n",
    "    k = round(sy*sx*s_r)\n",
    "    ri = np.random.choice(sy*sx, k, replace=False)\n",
    "    \n",
    "    dctrow = spfft.idct(np.identity(sx), norm='ortho', axis=0)\n",
    "    dctcol = spfft.idct(np.identity(sy), norm='ortho', axis=0)\n",
    "    \n",
    "    A = np.kron(dctrow, dctcol)\n",
    "    A = A[ri, :]\n",
    "    print(A.shape)\n",
    "    print(\"A matrix complete\")\n",
    "    dctrow = None\n",
    "    dctcol = None\n",
    "    \n",
    "    for i in range(len(img_adr)):\n",
    "        for j in range(len(alphas)):\n",
    "            lasso = Lasso(alpha=alphas[j], max_iter=2000, tol=0.00001, random_state=56)\n",
    "            sliced = plt.imread(img_adr[i])[:, :, 0]\n",
    "            b = sliced.T.flat[ri]\n",
    "            b = np.expand_dims(b, axis=1)\n",
    "            print(b.shape)\n",
    "            lasso.fit(A, b)\n",
    "            Xa = idct2(np.array(lasso.coef_).reshape(sy, sx).T)\n",
    "            plt.imsave(fname=img_adr[i][:-4]+\"_alpha_%d.png\"%(j), arr=Xa, format=\"png\", cmap=\"gray\")\n",
    "            print(\"%d, %d\"%(i, j))"
   ]
  },
  {
   "cell_type": "code",
   "execution_count": null,
   "metadata": {
    "scrolled": true
   },
   "outputs": [],
   "source": [
    "CS_sequential(img_adr, crop_size, sampling_ratio, alphas=[0.00001, 0.0000095, 0.0000085])"
   ]
  }
 ],
 "metadata": {
  "kernelspec": {
   "display_name": "Python 3",
   "language": "python",
   "name": "python3"
  },
  "language_info": {
   "codemirror_mode": {
    "name": "ipython",
    "version": 3
   },
   "file_extension": ".py",
   "mimetype": "text/x-python",
   "name": "python",
   "nbconvert_exporter": "python",
   "pygments_lexer": "ipython3",
   "version": "3.7.7"
  }
 },
 "nbformat": 4,
 "nbformat_minor": 4
}
