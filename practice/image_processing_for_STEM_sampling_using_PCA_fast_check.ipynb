{
 "cells": [
  {
   "cell_type": "code",
   "execution_count": null,
   "metadata": {},
   "outputs": [],
   "source": [
    "# import an image\n",
    "# crop & CS reconstruction in this script"
   ]
  },
  {
   "cell_type": "code",
   "execution_count": 1,
   "metadata": {},
   "outputs": [],
   "source": [
    "import hyperspy.api as hys\n",
    "import numpy as np\n",
    "import matplotlib.pyplot as plt\n",
    "import tkinter.filedialog as tkf\n",
    "from sklearn.decomposition import PCA\n",
    "import scipy.optimize as spopt\n",
    "import scipy.fftpack as spfft\n",
    "from sklearn.linear_model import Lasso\n",
    "import glob"
   ]
  },
  {
   "cell_type": "code",
   "execution_count": null,
   "metadata": {},
   "outputs": [],
   "source": [
    "whole_img_adr = tkf.askopenfilename()\n",
    "print(whole_img_adr)"
   ]
  },
  {
   "cell_type": "code",
   "execution_count": null,
   "metadata": {},
   "outputs": [],
   "source": [
    "X_dm = hys.load(whole_img_adr)\n",
    "X = X_dm.data\n",
    "print(X.shape)"
   ]
  },
  {
   "cell_type": "code",
   "execution_count": 3,
   "metadata": {},
   "outputs": [],
   "source": [
    "crop_size = 200"
   ]
  },
  {
   "cell_type": "code",
   "execution_count": null,
   "metadata": {},
   "outputs": [],
   "source": [
    "def pca(data_set, eigenvector=False, projection=None, inverse=False, n_comp=100, solver=\"auto\", whitening=False):\n",
    "    print(\"Doing PCA...\")\n",
    "\n",
    "    pca = PCA(n_components=n_comp, svd_solver=solver, whiten=whitening)\n",
    "    pca.fit(data_set)\n",
    "    print(pca.explained_variance_ratio_)\n",
    "    print(np.sum(pca.explained_variance_ratio_))\n",
    "\n",
    "    fig1, ax1 = plt.subplots(figsize=(5,3))\n",
    "    ax1.plot(np.cumsum(pca.explained_variance_ratio_), c=\"darkslategrey\")\n",
    "    ax1.grid()\n",
    "    ax1.set_xlabel('number of components')\n",
    "    ax1.set_ylabel('cumulative explained variance')\n",
    "    #print len(pca.components_)\n",
    "    #plt.show()\n",
    "    #plt.close(fig1)\n",
    "\n",
    "    reduced_projection = pca.transform(data_set)\n",
    "    restore = pca.inverse_transform(reduced_projection)\n",
    "        \n",
    "    if eigenvector:\n",
    "        fig2, ax2 = plt.subplots(n_comp, 1, figsize=(10, n_comp))\n",
    "        temp_flat = ax2.flat\n",
    "        for i, ax in enumerate(temp_flat[:n_comp]):\n",
    "            ax.plot(pca.components_[i], c=\"darkslategrey\")\n",
    "            ax.grid()\n",
    "        #plt.show()\n",
    "        #plt.close(fig2)\n",
    "\n",
    "    if projection:\n",
    "        fig3= plt.figure(figsize=(10,10))\n",
    "        ax3 = fig3.add_subplot(221)\n",
    "        ax3.scatter(reduced_projection[:, 0], reduced_projection[:, 1], s=1.5, c=\"darkslategrey\")\n",
    "        ax3.grid()\n",
    "        ax3.set_xlabel(\"component 1\")\n",
    "        ax3.set_ylabel(\"component 2\")\n",
    "\n",
    "        ax4 = fig3.add_subplot(222)\n",
    "        ax4.scatter(reduced_projection[:, 1], reduced_projection[:, 2], s=1.5, c=\"darkslategrey\")\n",
    "        ax4.grid()\n",
    "        ax4.set_xlabel(\"component 2\")\n",
    "        ax4.set_ylabel(\"component 3\")\n",
    "\n",
    "        ax5 = fig3.add_subplot(223)\n",
    "        ax5.scatter(reduced_projection[:, 0], reduced_projection[:, 2], s=1.5, c=\"darkslategrey\")\n",
    "        ax5.grid()\n",
    "        ax5.set_xlabel(\"component 1\")\n",
    "        ax5.set_ylabel(\"component 3\")\n",
    "        \n",
    "        if n_comp > 2:\n",
    "            ax6 = fig3.add_subplot(224, projection=\"3d\")\n",
    "            ax6.scatter(reduced_projection[:, 0], reduced_projection[:, 1],reduced_projection[:, 2], zdir=\"z\", s=1.5, c=\"darkslategrey\")\n",
    "            ax6.grid()\n",
    "            ax6.set_xlabel(\"component 1\")\n",
    "            ax6.set_ylabel(\"component 2\")\n",
    "            ax6.set_zlabel(\"component 3\")\n",
    "        \n",
    "        #plt.show()\n",
    "        #plt.close(fig3)\n",
    "\n",
    "    if inverse:\n",
    "        n2 = 10\n",
    "        fig4, ax7 = plt.subplots(n2, 2, figsize=(10,20))\n",
    "        for i in range(n2):\n",
    "            ax7[i, 0].plot(data_set[i], c=\"blue\")\n",
    "            ax7[i, 0].grid()\n",
    "            ax7[i, 1].plot(restore[i], c=\"crimson\")\n",
    "            ax7[i, 1].grid()\n",
    "        #fig4.tight_layout()\n",
    "        #plt.show()\n",
    "        #plt.close(fig4)\n",
    "        \n",
    "    return pca.components_, pca.mean_, reduced_projection, restore"
   ]
  },
  {
   "cell_type": "code",
   "execution_count": null,
   "metadata": {},
   "outputs": [],
   "source": [
    "comp_vectors_pca, mean_pca, projections_pca, restoration_pca = pca(X, n_comp=10, \n",
    "                                                                   eigenvector=True, \n",
    "                                                                   projection=False, \n",
    "                                                                   inverse=False,\n",
    "                                                                  whitening=False)\n",
    "plt.show()"
   ]
  },
  {
   "cell_type": "code",
   "execution_count": null,
   "metadata": {},
   "outputs": [],
   "source": [
    "# PCA : reconstruction\n",
    "\n",
    "num_comp = 10\n",
    "comp_array = np.arange(num_comp) # or you can create manually\n",
    "\n",
    "reconstructed_pca = np.dot(projections_pca[:, comp_array], comp_vectors_pca[comp_array]) + mean_pca\n",
    "        \n",
    "print(np.max(X))\n",
    "print(np.max(reconstructed_pca))\n",
    "fig, ax = plt.subplots(1, 2, figsize=(20, 20))\n",
    "ax[0].imshow(X[:100, :100], cmap=\"afmhot\")\n",
    "ax[0].axis(\"off\")\n",
    "ax[1].imshow(reconstructed_pca[:100, :100], cmap=\"afmhot\")\n",
    "ax[1].axis(\"off\")\n",
    "plt.show()"
   ]
  },
  {
   "cell_type": "code",
   "execution_count": null,
   "metadata": {},
   "outputs": [],
   "source": [
    "threshold = 0.60\n",
    "normalized = reconstructed_pca / np.max(reconstructed_pca)\n",
    "normalized[np.where(normalized < threshold)] = 0\n",
    "normalized[np.where(normalized != 0)] = 1"
   ]
  },
  {
   "cell_type": "code",
   "execution_count": null,
   "metadata": {},
   "outputs": [],
   "source": [
    "print(np.sum(normalized)/normalized.size)\n",
    "\n",
    "fig, ax = plt.subplots(1, 2, figsize=(20, 20))\n",
    "ax[0].imshow(reconstructed_pca[:100, :100], cmap=\"afmhot\")\n",
    "ax[0].axis(\"off\")\n",
    "ax[1].imshow(normalized[:100, :100], cmap=\"afmhot\")\n",
    "ax[1].axis(\"off\")\n",
    "plt.show()"
   ]
  },
  {
   "cell_type": "code",
   "execution_count": null,
   "metadata": {},
   "outputs": [],
   "source": [
    "phi = normalized.copy()"
   ]
  },
  {
   "cell_type": "code",
   "execution_count": 4,
   "metadata": {},
   "outputs": [],
   "source": [
    "def dct2d(x):\n",
    "    return spfft.dct(spfft.dct(x.T, norm='ortho', axis=0).T, norm='ortho', axis=0)\n",
    "\n",
    "def idct2(x):\n",
    "    return spfft.idct(spfft.idct(x.T, norm='ortho', axis=0).T, norm='ortho', axis=0)"
   ]
  },
  {
   "cell_type": "code",
   "execution_count": null,
   "metadata": {},
   "outputs": [],
   "source": [
    "dctrow = spfft.idct(np.identity(crop_size), norm='ortho', axis=0)\n",
    "dctcol = spfft.idct(np.identity(crop_size), norm='ortho', axis=0)\n",
    "    \n",
    "A = np.kron(dctrow, dctcol)\n",
    "print(A.shape)\n",
    "del dctrow\n",
    "del dctcol\n",
    "    \n",
    "lasso = Lasso(alpha=0.00001, max_iter=2000, tol=0.00001, random_state=56)\n",
    "\n",
    "sliced = whole_img[0:crop_size, 0:crop_size]\n",
    "phi_prime = phi[0:crop_size, 0:crop_size]\n",
    "ri = np.where(phi_prime==1.0)[0]\n",
    "A_prime = A[ri, :]"
   ]
  },
  {
   "cell_type": "code",
   "execution_count": null,
   "metadata": {},
   "outputs": [],
   "source": [
    "b = sliced.T.flat[ri]\n",
    "b = np.expand_dims(b, axis=1)\n",
    "lasso.fit(A_prime, b)\n",
    "Xa = idct2(np.array(lasso.coef_).reshape(sy, sx).T)\n",
    "fig, ax = plt.subplots(1, 2, figsize=(20, 20))\n",
    "ax[0].imshow(sliced, cmap=\"afmhot\")\n",
    "ax[0].axis(\"off\")\n",
    "ax[1].imshow(Xa, cmap=\"afmhot\")\n",
    "ax[1].axis(\"off\")\n",
    "plt.show()"
   ]
  }
 ],
 "metadata": {
  "kernelspec": {
   "display_name": "Python 3",
   "language": "python",
   "name": "python3"
  },
  "language_info": {
   "codemirror_mode": {
    "name": "ipython",
    "version": 3
   },
   "file_extension": ".py",
   "mimetype": "text/x-python",
   "name": "python",
   "nbconvert_exporter": "python",
   "pygments_lexer": "ipython3",
   "version": "3.7.9"
  }
 },
 "nbformat": 4,
 "nbformat_minor": 4
}
