{
 "cells": [
  {
   "cell_type": "code",
   "execution_count": 2,
   "metadata": {},
   "outputs": [],
   "source": [
    "import hyperspy.api as hys\n",
    "import numpy as np\n",
    "import matplotlib.pyplot as plt\n",
    "import tkinter.filedialog as tkf\n",
    "import glob"
   ]
  },
  {
   "cell_type": "code",
   "execution_count": 9,
   "metadata": {},
   "outputs": [],
   "source": [
    "img_dir = tkf.askdirectory()"
   ]
  },
  {
   "cell_type": "code",
   "execution_count": 10,
   "metadata": {},
   "outputs": [
    {
     "name": "stdout",
     "output_type": "stream",
     "text": [
      "20\n"
     ]
    }
   ],
   "source": [
    "img_adr = glob.glob(img_dir+\"/*\")\n",
    "print(len(img_adr))"
   ]
  },
  {
   "cell_type": "code",
   "execution_count": 11,
   "metadata": {},
   "outputs": [
    {
     "name": "stdout",
     "output_type": "stream",
     "text": [
      "<Signal2D, title: , dimensions: (|1000, 1000)>\n",
      "<Signal2D, title: , dimensions: (|1000, 1000)>\n",
      "<Signal2D, title: , dimensions: (|1000, 1000)>\n",
      "<Signal2D, title: , dimensions: (|1000, 1000)>\n",
      "<Signal2D, title: , dimensions: (|1000, 1000)>\n",
      "<Signal2D, title: , dimensions: (|1000, 1000)>\n",
      "<Signal2D, title: , dimensions: (|1000, 1000)>\n",
      "<Signal2D, title: , dimensions: (|1000, 1000)>\n",
      "<Signal2D, title: , dimensions: (|1000, 1000)>\n",
      "<Signal2D, title: , dimensions: (|1000, 1000)>\n",
      "<Signal2D, title: , dimensions: (|1000, 1000)>\n",
      "<Signal2D, title: , dimensions: (|1000, 1000)>\n",
      "<Signal2D, title: , dimensions: (|1000, 1000)>\n",
      "<Signal2D, title: , dimensions: (|1000, 1000)>\n",
      "<Signal2D, title: , dimensions: (|1000, 1000)>\n",
      "<Signal2D, title: , dimensions: (|1000, 1000)>\n",
      "<Signal2D, title: , dimensions: (|1000, 1000)>\n",
      "<Signal2D, title: , dimensions: (|1000, 1000)>\n",
      "<Signal2D, title: , dimensions: (|1000, 1000)>\n",
      "<Signal2D, title: , dimensions: (|1000, 1000)>\n"
     ]
    }
   ],
   "source": [
    "for adr in img_adr:\n",
    "    temp = hys.load(adr)\n",
    "    print(temp)\n",
    "    temp.save(adr[:-3]+\"hdf5\")"
   ]
  }
 ],
 "metadata": {
  "kernelspec": {
   "display_name": "Python 3",
   "language": "python",
   "name": "python3"
  },
  "language_info": {
   "codemirror_mode": {
    "name": "ipython",
    "version": 3
   },
   "file_extension": ".py",
   "mimetype": "text/x-python",
   "name": "python",
   "nbconvert_exporter": "python",
   "pygments_lexer": "ipython3",
   "version": "3.6.6"
  }
 },
 "nbformat": 4,
 "nbformat_minor": 2
}
