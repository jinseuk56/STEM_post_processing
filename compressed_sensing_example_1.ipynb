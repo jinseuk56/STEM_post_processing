{
 "cells": [
  {
   "cell_type": "code",
   "execution_count": null,
   "metadata": {},
   "outputs": [],
   "source": [
    "import numpy as np\n",
    "import matplotlib.pyplot as plt\n",
    "import hyperspy.api as hys\n",
    "import tkinter.filedialog as tkf\n",
    "import scipy.optimize as spopt\n",
    "import scipy.fftpack as spfft\n",
    "from sklearn.linear_model import Lasso"
   ]
  },
  {
   "cell_type": "code",
   "execution_count": null,
   "metadata": {},
   "outputs": [],
   "source": [
    "img_adr = tkf.askopenfilename()\n",
    "print(img_adr)"
   ]
  },
  {
   "cell_type": "code",
   "execution_count": null,
   "metadata": {},
   "outputs": [],
   "source": [
    "crop_size = 200\n",
    "img = hys.load(img_adr)\n",
    "print(img)\n",
    "sliced = img.data[200:200+crop_size, 200:200+crop_size]\n",
    "print(sliced.shape)\n",
    "sy, sx = sliced.shape"
   ]
  },
  {
   "cell_type": "code",
   "execution_count": null,
   "metadata": {},
   "outputs": [],
   "source": [
    "def line_hop(img_shape, hop_bottom, hop_top):\n",
    "    sampling_matrix = np.zeros(img_shape)\n",
    "    print(sampling_matrix.shape)\n",
    "    \n",
    "    line_chosen = []\n",
    "    line = 0\n",
    "    hop_range = range(hop_bottom, hop_top, 1)\n",
    "    while True:\n",
    "        hop = np.random.choice(hop_range)\n",
    "        line += hop\n",
    "        if line >= img_shape[0]:\n",
    "            break\n",
    "        line_chosen.append(line)\n",
    "    \n",
    "    for i in line_chosen:\n",
    "        temp = i\n",
    "        for j in range(img_shape[1]):\n",
    "            while(True):\n",
    "                hop = np.random.choice([-1, 0, 1], p=[0.10, 0.80, 0.10])\n",
    "                temp += hop\n",
    "                if temp >= 0 and temp < img_shape[0]:\n",
    "                    break\n",
    "            sampling_matrix[temp, j] = 1\n",
    "    \n",
    "    \n",
    "    print((\"sampling ratio = %.2f %%\")%(100*np.sum(sampling_matrix)/(img_shape[0]*img_shape[1])))\n",
    "    \n",
    "    return sampling_matrix"
   ]
  },
  {
   "cell_type": "code",
   "execution_count": null,
   "metadata": {},
   "outputs": [],
   "source": [
    "def dct2d(x):\n",
    "    return spfft.dct(spfft.dct(x.T, norm='ortho', axis=0).T, norm='ortho', axis=0)\n",
    "\n",
    "def idct2(x):\n",
    "    return spfft.idct(spfft.idct(x.T, norm='ortho', axis=0).T, norm='ortho', axis=0)"
   ]
  },
  {
   "cell_type": "code",
   "execution_count": null,
   "metadata": {},
   "outputs": [],
   "source": [
    "phi = np.zeros([sy, sx])\n",
    "phi[np.nonzero(sliced)] = 1.0\n",
    "\n",
    "#phi = line_hop([sy, sx], 1, 3)\n",
    "phi_prime = phi.flatten()\n",
    "ri = np.where(phi_prime==1)[0]\n",
    "\n",
    "#sampling_ratio = 0.5\n",
    "#ri = np.random.choice(sy*sx, np.round(sy*sx*sampling_ratio), replace=False )"
   ]
  },
  {
   "cell_type": "code",
   "execution_count": null,
   "metadata": {},
   "outputs": [],
   "source": [
    "#sampling_ratio = 0.5\n",
    "#ri = np.random.choice(sy*sx, np.round(sy*sx*sampling_ratio), replace=False )\n",
    "    \n",
    "dctrow = spfft.idct(np.identity(sx), norm='ortho', axis=0)\n",
    "dctcol = spfft.idct(np.identity(sy), norm='ortho', axis=0)\n",
    "    \n",
    "A = np.kron(dctrow, dctcol)\n",
    "A = A[ri, :]\n",
    "print(A.shape)\n",
    "print(\"A matrix complete\")\n",
    "del phi_prime\n",
    "del dctrow\n",
    "del dctcol"
   ]
  },
  {
   "cell_type": "code",
   "execution_count": null,
   "metadata": {},
   "outputs": [],
   "source": [
    "b = sliced.T.flat[ri]\n",
    "b = np.expand_dims(b, axis=1)\n",
    "print(b.shape)"
   ]
  },
  {
   "cell_type": "code",
   "execution_count": null,
   "metadata": {},
   "outputs": [],
   "source": [
    "fig, ax = plt.subplots(1, 2, figsize=(20, 20))\n",
    "ax[0].imshow(sliced, cmap=\"afmhot\")\n",
    "ax[0].axis(\"off\")\n",
    "ax[1].imshow(phi, cmap=\"afmhot\")\n",
    "ax[1].axis(\"off\")\n",
    "plt.show()"
   ]
  },
  {
   "cell_type": "code",
   "execution_count": null,
   "metadata": {},
   "outputs": [],
   "source": [
    "lasso = Lasso(alpha=1E-6, max_iter=2000, tol=0.00001, random_state=56)\n",
    "\n",
    "lasso.fit(A, b)\n",
    "Xa = idct2(np.array(lasso.coef_).reshape(sy, sx).T)\n",
    "fig, ax = plt.subplots(1, 2, figsize=(20, 20))\n",
    "ax[0].imshow(sliced, cmap=\"afmhot\")\n",
    "ax[0].axis(\"off\")\n",
    "ax[1].imshow(Xa, cmap=\"afmhot\")\n",
    "ax[1].axis(\"off\")\n",
    "plt.show()"
   ]
  }
 ],
 "metadata": {
  "kernelspec": {
   "display_name": "Python 3",
   "language": "python",
   "name": "python3"
  },
  "language_info": {
   "codemirror_mode": {
    "name": "ipython",
    "version": 3
   },
   "file_extension": ".py",
   "mimetype": "text/x-python",
   "name": "python",
   "nbconvert_exporter": "python",
   "pygments_lexer": "ipython3",
   "version": "3.7.7"
  }
 },
 "nbformat": 4,
 "nbformat_minor": 4
}
