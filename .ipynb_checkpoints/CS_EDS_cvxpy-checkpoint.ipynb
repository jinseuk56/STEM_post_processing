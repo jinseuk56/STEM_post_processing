{
 "cells": [
  {
   "cell_type": "code",
   "execution_count": null,
   "metadata": {},
   "outputs": [],
   "source": [
    "import numpy as np\n",
    "import matplotlib.pyplot as plt\n",
    "import tkinter.filedialog as tkf\n",
    "import scipy.optimize as spopt\n",
    "import scipy.fftpack as spfft\n",
    "import tifffile\n",
    "import cvxpy as cp"
   ]
  },
  {
   "cell_type": "code",
   "execution_count": null,
   "metadata": {},
   "outputs": [],
   "source": [
    "def line_hop(img_shape, hop_bottom, hop_top):\n",
    "    sampling_matrix = np.zeros(img_shape)\n",
    "    print(sampling_matrix.shape)\n",
    "    \n",
    "    line_chosen = []\n",
    "    line = 0\n",
    "    hop_range = range(hop_bottom, hop_top, 1)\n",
    "    while True:\n",
    "        hop = np.random.choice(hop_range)\n",
    "        line += hop\n",
    "        if line >= img_shape[0]:\n",
    "            break\n",
    "        line_chosen.append(line)\n",
    "    \n",
    "    for i in line_chosen:\n",
    "        temp = i\n",
    "        for j in range(img_shape[1]):\n",
    "            while(True):\n",
    "                hop = np.random.choice([-1, 0, 1], p=[0.10, 0.80, 0.10])\n",
    "                temp += hop\n",
    "                if temp >= 0 and temp < img_shape[0]:\n",
    "                    break\n",
    "            sampling_matrix[temp, j] = 1\n",
    "    \n",
    "    \n",
    "    print((\"sampling ratio = %.2f %%\")%(100*np.sum(sampling_matrix)/(img_shape[0]*img_shape[1])))\n",
    "    \n",
    "    return sampling_matrix"
   ]
  },
  {
   "cell_type": "code",
   "execution_count": null,
   "metadata": {},
   "outputs": [],
   "source": [
    "img_adr = tkf.askopenfilenames()\n",
    "print(img_adr)"
   ]
  },
  {
   "cell_type": "code",
   "execution_count": null,
   "metadata": {},
   "outputs": [],
   "source": [
    "ox = tifffile.imread(img_adr[0])\n",
    "print(ox.shape)\n",
    "sr = tifffile.imread(img_adr[1])\n",
    "print(sr.shape)\n",
    "ti = tifffile.imread(img_adr[2])\n",
    "print(ti.shape)"
   ]
  },
  {
   "cell_type": "code",
   "execution_count": null,
   "metadata": {},
   "outputs": [],
   "source": [
    "datatype = np.float32\n",
    "print(datatype)"
   ]
  },
  {
   "cell_type": "code",
   "execution_count": null,
   "metadata": {},
   "outputs": [],
   "source": [
    "ch_map = ox + 2*sr + 3*ti\n",
    "print(ch_map.shape)\n",
    "ch_map = ch_map / np.max(ch_map)\n",
    "sy, sx = ch_map.shape"
   ]
  },
  {
   "cell_type": "code",
   "execution_count": null,
   "metadata": {},
   "outputs": [],
   "source": [
    "plt.imshow(ch_map, cmap=\"Accent\")"
   ]
  },
  {
   "cell_type": "code",
   "execution_count": null,
   "metadata": {},
   "outputs": [],
   "source": [
    "print(\"sampling ratio\")\n",
    "print(len(np.nonzero(ch_map)[0])/ch_map.size)"
   ]
  },
  {
   "cell_type": "code",
   "execution_count": null,
   "metadata": {},
   "outputs": [],
   "source": [
    "def dct2d(x):\n",
    "    return spfft.dct(spfft.dct(x.T, norm='ortho', axis=0).T, norm='ortho', axis=0)\n",
    "\n",
    "def idct2(x):\n",
    "    return spfft.idct(spfft.idct(x.T, norm='ortho', axis=0).T, norm='ortho', axis=0)"
   ]
  },
  {
   "cell_type": "code",
   "execution_count": null,
   "metadata": {},
   "outputs": [],
   "source": [
    "#phi = np.zeros([sy, sx])\n",
    "#phi[np.nonzero(ch_map)] = 1.0\n",
    "\n",
    "phi = line_hop([sy, sx], 1, 3)\n",
    "phi_prime = phi.flatten()\n",
    "ri = np.where(phi_prime==1)[0]"
   ]
  },
  {
   "cell_type": "code",
   "execution_count": null,
   "metadata": {},
   "outputs": [],
   "source": [
    "dctrow = spfft.idct(np.identity(sx, dtype=datatype), norm='ortho', axis=0)\n",
    "dctcol = spfft.idct(np.identity(sy, dtype=datatype), norm='ortho', axis=0)\n",
    "    \n",
    "A = np.kron(dctrow, dctcol)\n",
    "A = A[ri, :]\n",
    "print(A.shape)\n",
    "print(\"A matrix complete\")\n",
    "del phi_prime\n",
    "del dctrow\n",
    "del dctcol"
   ]
  },
  {
   "cell_type": "code",
   "execution_count": null,
   "metadata": {},
   "outputs": [],
   "source": [
    "ch_map = ch_map.astype(datatype)\n",
    "A = A.astype(datatype)"
   ]
  },
  {
   "cell_type": "code",
   "execution_count": null,
   "metadata": {},
   "outputs": [],
   "source": [
    "b = ch_map.T.flat[ri]\n",
    "print(b.shape)"
   ]
  },
  {
   "cell_type": "code",
   "execution_count": null,
   "metadata": {},
   "outputs": [],
   "source": [
    "x = cp.Variable(sy*sx)\n",
    "print(x)"
   ]
  },
  {
   "cell_type": "code",
   "execution_count": null,
   "metadata": {},
   "outputs": [],
   "source": [
    "lmbd_l1 = cp.Parameter(nonneg=True)\n",
    "lmbd_l1.value = 0.001"
   ]
  },
  {
   "cell_type": "code",
   "execution_count": null,
   "metadata": {},
   "outputs": [],
   "source": [
    "lmbd_tv = cp.Parameter(nonneg=True)\n",
    "lmbd_tv.value = 0.001"
   ]
  },
  {
   "cell_type": "code",
   "execution_count": null,
   "metadata": {},
   "outputs": [],
   "source": [
    "constraint = [0 <= x, x <= 1]"
   ]
  },
  {
   "cell_type": "code",
   "execution_count": null,
   "metadata": {},
   "outputs": [],
   "source": [
    "problem = cp.Problem(cp.Minimize(cp.norm(A@x-b.ravel(), 2)\n",
    "                                     +lmbd_l1*cp.norm(x, 1)+lmbd_tv*cp.tv(x)), constraint)"
   ]
  },
  {
   "cell_type": "code",
   "execution_count": null,
   "metadata": {},
   "outputs": [],
   "source": [
    "problem.solve(verbose=True)"
   ]
  },
  {
   "cell_type": "code",
   "execution_count": null,
   "metadata": {},
   "outputs": [],
   "source": [
    "tifffile.imwrite(\"/measurements.tif\", ch_map)\n",
    "tifffile.imwrite(\"/reconstruction.tif\", x.value.reshape(sy, sx))"
   ]
  }
 ],
 "metadata": {
  "kernelspec": {
   "display_name": "Python 3",
   "language": "python",
   "name": "python3"
  },
  "language_info": {
   "codemirror_mode": {
    "name": "ipython",
    "version": 3
   },
   "file_extension": ".py",
   "mimetype": "text/x-python",
   "name": "python",
   "nbconvert_exporter": "python",
   "pygments_lexer": "ipython3",
   "version": "3.8.3"
  }
 },
 "nbformat": 4,
 "nbformat_minor": 4
}
